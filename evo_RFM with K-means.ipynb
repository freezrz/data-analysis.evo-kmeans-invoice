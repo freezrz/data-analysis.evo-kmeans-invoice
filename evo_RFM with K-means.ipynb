{
 "cells": [
  {
   "cell_type": "code",
   "execution_count": 23,
   "metadata": {
    "execution": {
     "iopub.execute_input": "2023-04-30T06:01:29.985167Z",
     "iopub.status.busy": "2023-04-30T06:01:29.984837Z",
     "iopub.status.idle": "2023-04-30T06:01:30.043213Z",
     "shell.execute_reply": "2023-04-30T06:01:30.042379Z",
     "shell.execute_reply.started": "2023-04-30T06:01:29.985141Z"
    },
    "tags": []
   },
   "outputs": [
    {
     "data": {
      "application/vnd.jupyter.widget-view+json": {
       "model_id": "f0b779836b684b58b505af90efc3fc94",
       "version_major": 2,
       "version_minor": 0
      },
      "text/plain": [
       "VBox()"
      ]
     },
     "metadata": {},
     "output_type": "display_data"
    },
    {
     "data": {
      "application/vnd.jupyter.widget-view+json": {
       "model_id": "",
       "version_major": 2,
       "version_minor": 0
      },
      "text/plain": [
       "FloatProgress(value=0.0, bar_style='info', description='Progress:', layout=Layout(height='25px', width='50%'),…"
      ]
     },
     "metadata": {},
     "output_type": "display_data"
    }
   ],
   "source": [
    "import numpy as np\n",
    "import pandas as pd\n",
    "import matplotlib\n",
    "# %%local\n",
    "# %matplotlib inline\n",
    "import matplotlib.pyplot as plt\n",
    "# %matplot plt\n",
    "# plt.show()\n",
    "# from IPython import get_ipython\n",
    "# get_ipython().run_line_magic('matplotlib', 'inline')\n",
    "# get_ipython().magic(u'matplotlib inline')\n",
    "import seaborn as sns\n",
    "\n",
    "import pyspark\n",
    "from pyspark.sql import SparkSession\n",
    "\n",
    "spark = SparkSession.builder.appName(\"PySpark\").getOrCreate()\n",
    "\n",
    "# spark"
   ]
  },
  {
   "cell_type": "code",
   "execution_count": 2,
   "metadata": {
    "execution": {
     "iopub.execute_input": "2023-04-30T04:58:01.045104Z",
     "iopub.status.busy": "2023-04-30T04:58:01.044838Z",
     "iopub.status.idle": "2023-04-30T04:58:01.118864Z",
     "shell.execute_reply": "2023-04-30T04:58:01.118111Z",
     "shell.execute_reply.started": "2023-04-30T04:58:01.045081Z"
    },
    "tags": []
   },
   "outputs": [
    {
     "data": {
      "application/vnd.jupyter.widget-view+json": {
       "model_id": "3dfdeb8b7cd94844b0063f6f53d9735e",
       "version_major": 2,
       "version_minor": 0
      },
      "text/plain": [
       "VBox()"
      ]
     },
     "metadata": {},
     "output_type": "display_data"
    },
    {
     "data": {
      "application/vnd.jupyter.widget-view+json": {
       "model_id": "",
       "version_major": 2,
       "version_minor": 0
      },
      "text/plain": [
       "FloatProgress(value=0.0, bar_style='info', description='Progress:', layout=Layout(height='25px', width='50%'),…"
      ]
     },
     "metadata": {},
     "output_type": "display_data"
    }
   ],
   "source": [
    "from pyspark.sql import functions as F\n",
    "from pyspark.sql.types import *"
   ]
  },
  {
   "cell_type": "code",
   "execution_count": 3,
   "metadata": {
    "execution": {
     "iopub.execute_input": "2023-04-30T04:58:01.121485Z",
     "iopub.status.busy": "2023-04-30T04:58:01.120937Z",
     "iopub.status.idle": "2023-04-30T04:58:01.933229Z",
     "shell.execute_reply": "2023-04-30T04:58:01.932154Z",
     "shell.execute_reply.started": "2023-04-30T04:58:01.121446Z"
    },
    "tags": []
   },
   "outputs": [
    {
     "data": {
      "application/vnd.jupyter.widget-view+json": {
       "model_id": "20d728d88c7743179f21c811e5ceeeb6",
       "version_major": 2,
       "version_minor": 0
      },
      "text/plain": [
       "VBox()"
      ]
     },
     "metadata": {},
     "output_type": "display_data"
    },
    {
     "data": {
      "application/vnd.jupyter.widget-view+json": {
       "model_id": "",
       "version_major": 2,
       "version_minor": 0
      },
      "text/plain": [
       "FloatProgress(value=0.0, bar_style='info', description='Progress:', layout=Layout(height='25px', width='50%'),…"
      ]
     },
     "metadata": {},
     "output_type": "display_data"
    }
   ],
   "source": [
    "from pyspark.ml.clustering import KMeans\n",
    "from pyspark.ml.feature import VectorAssembler\n",
    "from pyspark.ml.feature import StandardScaler\n",
    "from pyspark.ml.evaluation import ClusteringEvaluator"
   ]
  },
  {
   "cell_type": "code",
   "execution_count": 4,
   "metadata": {
    "execution": {
     "iopub.execute_input": "2023-04-30T04:58:01.935576Z",
     "iopub.status.busy": "2023-04-30T04:58:01.934989Z",
     "iopub.status.idle": "2023-04-30T04:58:02.011732Z",
     "shell.execute_reply": "2023-04-30T04:58:02.010001Z",
     "shell.execute_reply.started": "2023-04-30T04:58:01.935535Z"
    },
    "tags": []
   },
   "outputs": [
    {
     "data": {
      "application/vnd.jupyter.widget-view+json": {
       "model_id": "8dd055708d9a4f9a9f770f49318bd557",
       "version_major": 2,
       "version_minor": 0
      },
      "text/plain": [
       "VBox()"
      ]
     },
     "metadata": {},
     "output_type": "display_data"
    },
    {
     "data": {
      "application/vnd.jupyter.widget-view+json": {
       "model_id": "",
       "version_major": 2,
       "version_minor": 0
      },
      "text/plain": [
       "FloatProgress(value=0.0, bar_style='info', description='Progress:', layout=Layout(height='25px', width='50%'),…"
      ]
     },
     "metadata": {},
     "output_type": "display_data"
    }
   ],
   "source": [
    "def printdf(df, l=5):\n",
    "    return df.limit(l).toPandas()\n",
    "\n",
    "def nullcount(df):\n",
    "    return {col: df.filter(df[col].isNull()).count() for col in df.columns}\n",
    "\n",
    "def shape(df):\n",
    "    print((df.count(), len(df.columns)))"
   ]
  },
  {
   "cell_type": "markdown",
   "metadata": {},
   "source": [
    "# Load data\n",
    "**dataset from RFM with PySpark**"
   ]
  },
  {
   "cell_type": "code",
   "execution_count": 5,
   "metadata": {
    "execution": {
     "iopub.execute_input": "2023-04-30T04:58:02.013382Z",
     "iopub.status.busy": "2023-04-30T04:58:02.013027Z",
     "iopub.status.idle": "2023-04-30T04:58:13.397565Z",
     "shell.execute_reply": "2023-04-30T04:58:13.396665Z",
     "shell.execute_reply.started": "2023-04-30T04:58:02.013347Z"
    },
    "tags": []
   },
   "outputs": [
    {
     "data": {
      "application/vnd.jupyter.widget-view+json": {
       "model_id": "5d588e09df43485c9c82394a7e917894",
       "version_major": 2,
       "version_minor": 0
      },
      "text/plain": [
       "VBox()"
      ]
     },
     "metadata": {},
     "output_type": "display_data"
    },
    {
     "data": {
      "application/vnd.jupyter.widget-view+json": {
       "model_id": "",
       "version_major": 2,
       "version_minor": 0
      },
      "text/plain": [
       "FloatProgress(value=0.0, bar_style='info', description='Progress:', layout=Layout(height='25px', width='50%'),…"
      ]
     },
     "metadata": {},
     "output_type": "display_data"
    },
    {
     "name": "stdout",
     "output_type": "stream",
     "text": [
      "   user_id  Recency  Frequency  Monetary\n",
      "0        5      181         17   11695.0\n",
      "1       12       72         14    3524.0\n",
      "2       24      170          8   46300.0\n",
      "3       31      192          6    2264.0\n",
      "4       34      234         16    2480.0"
     ]
    }
   ],
   "source": [
    "rfm_numbers = spark.read.csv(f\"s3://athenapyspark-rfm-analysis-result/analysis-results/evo_rfm_numbers.csv\", \n",
    "                             inferSchema=True, \n",
    "                             header=True)\n",
    "printdf(rfm_numbers)"
   ]
  },
  {
   "cell_type": "markdown",
   "metadata": {},
   "source": [
    "<!-- # Prepare data -->"
   ]
  },
  {
   "cell_type": "markdown",
   "metadata": {},
   "source": [
    "# Inspect"
   ]
  },
  {
   "cell_type": "code",
   "execution_count": 6,
   "metadata": {
    "execution": {
     "iopub.execute_input": "2023-04-30T04:58:13.398861Z",
     "iopub.status.busy": "2023-04-30T04:58:13.398625Z",
     "iopub.status.idle": "2023-04-30T04:58:14.184587Z",
     "shell.execute_reply": "2023-04-30T04:58:14.183745Z",
     "shell.execute_reply.started": "2023-04-30T04:58:13.398837Z"
    },
    "tags": []
   },
   "outputs": [
    {
     "data": {
      "application/vnd.jupyter.widget-view+json": {
       "model_id": "b9386f0082ef405bb5589b31861d658a",
       "version_major": 2,
       "version_minor": 0
      },
      "text/plain": [
       "VBox()"
      ]
     },
     "metadata": {},
     "output_type": "display_data"
    },
    {
     "data": {
      "application/vnd.jupyter.widget-view+json": {
       "model_id": "",
       "version_major": 2,
       "version_minor": 0
      },
      "text/plain": [
       "FloatProgress(value=0.0, bar_style='info', description='Progress:', layout=Layout(height='25px', width='50%'),…"
      ]
     },
     "metadata": {},
     "output_type": "display_data"
    },
    {
     "name": "stdout",
     "output_type": "stream",
     "text": [
      "          user_id     Recency  Frequency      Monetary\n",
      "count   82.000000   82.000000  82.000000     82.000000\n",
      "mean   316.890244  202.609756   5.134146   5455.427744\n",
      "std    171.362730  106.623111   5.958213  11059.407664\n",
      "min      5.000000   60.000000   1.000000      0.000000\n",
      "25%    178.250000  100.000000   1.000000    530.250000\n",
      "50%    320.500000  201.500000   3.000000   1465.000000\n",
      "75%    453.000000  279.000000   5.000000   4988.212500\n",
      "max    597.000000  459.000000  33.000000  75000.000000"
     ]
    }
   ],
   "source": [
    "df_rfm_numbers = rfm_numbers.toPandas()\n",
    "df_rfm_numbers.describe()"
   ]
  },
  {
   "cell_type": "code",
   "execution_count": 7,
   "metadata": {
    "execution": {
     "iopub.execute_input": "2023-04-30T04:58:14.186386Z",
     "iopub.status.busy": "2023-04-30T04:58:14.186023Z",
     "iopub.status.idle": "2023-04-30T04:58:15.475537Z",
     "shell.execute_reply": "2023-04-30T04:58:15.474493Z",
     "shell.execute_reply.started": "2023-04-30T04:58:14.186340Z"
    },
    "tags": []
   },
   "outputs": [
    {
     "data": {
      "application/vnd.jupyter.widget-view+json": {
       "model_id": "5a018ae0db884067b886e3c01b65dc7c",
       "version_major": 2,
       "version_minor": 0
      },
      "text/plain": [
       "VBox()"
      ]
     },
     "metadata": {},
     "output_type": "display_data"
    },
    {
     "data": {
      "application/vnd.jupyter.widget-view+json": {
       "model_id": "",
       "version_major": 2,
       "version_minor": 0
      },
      "text/plain": [
       "FloatProgress(value=0.0, bar_style='info', description='Progress:', layout=Layout(height='25px', width='50%'),…"
      ]
     },
     "metadata": {},
     "output_type": "display_data"
    }
   ],
   "source": [
    "fig, ax = plt.subplots(1, 3, figsize=(16, 8))\n",
    "\n",
    "# Recency distribution plot\n",
    "sns.histplot(df_rfm_numbers['Recency'], kde=True, ax=ax[0])\n",
    "\n",
    "# Frequency distribution plot\n",
    "sns.histplot(df_rfm_numbers.query('Frequency < 1000')['Frequency'], kde=True, ax=ax[1])\n",
    "\n",
    "# Monetary distribution plot\n",
    "sns.histplot(df_rfm_numbers.query('Monetary < 10000')['Monetary'], kde=True, ax=ax[2])\n",
    "\n",
    "import boto3\n",
    "s3client=boto3.client('s3')\n",
    "fig.savefig('kmeans_distribution.png')\n",
    "s3client.upload_file('kmeans_distribution.png', 'evo-kmeans-analysis', 'analysis-results/kmeans_distribution.png')\n"
   ]
  },
  {
   "cell_type": "markdown",
   "metadata": {},
   "source": [
    "# K-Means Clustering"
   ]
  },
  {
   "cell_type": "code",
   "execution_count": 8,
   "metadata": {
    "execution": {
     "iopub.execute_input": "2023-04-30T04:58:15.479568Z",
     "iopub.status.busy": "2023-04-30T04:58:15.479235Z",
     "iopub.status.idle": "2023-04-30T04:58:15.780022Z",
     "shell.execute_reply": "2023-04-30T04:58:15.779115Z",
     "shell.execute_reply.started": "2023-04-30T04:58:15.479532Z"
    },
    "tags": []
   },
   "outputs": [
    {
     "data": {
      "application/vnd.jupyter.widget-view+json": {
       "model_id": "c1f01464177d4073b70f03f34ade2df5",
       "version_major": 2,
       "version_minor": 0
      },
      "text/plain": [
       "VBox()"
      ]
     },
     "metadata": {},
     "output_type": "display_data"
    },
    {
     "data": {
      "application/vnd.jupyter.widget-view+json": {
       "model_id": "",
       "version_major": 2,
       "version_minor": 0
      },
      "text/plain": [
       "FloatProgress(value=0.0, bar_style='info', description='Progress:', layout=Layout(height='25px', width='50%'),…"
      ]
     },
     "metadata": {},
     "output_type": "display_data"
    }
   ],
   "source": [
    "# Since log transformation doesn't work with negative and zero values, lets get rid of negative and zeros\n",
    "\n",
    "rfm_data = (\n",
    "    rfm_numbers.withColumn(\n",
    "        \"Monetary\", \n",
    "        F.when(F.col(\"Monetary\") <= 0, 1)\n",
    "         .otherwise(F.col(\"Monetary\")))\n",
    ")\n",
    "\n",
    "# rfm_data = rfm_numbers\n",
    "# printdf(rfm_data)"
   ]
  },
  {
   "cell_type": "markdown",
   "metadata": {},
   "source": [
    "# Elbow Analysis"
   ]
  },
  {
   "cell_type": "code",
   "execution_count": 9,
   "metadata": {
    "execution": {
     "iopub.execute_input": "2023-04-30T04:58:15.782745Z",
     "iopub.status.busy": "2023-04-30T04:58:15.782193Z",
     "iopub.status.idle": "2023-04-30T04:58:17.152450Z",
     "shell.execute_reply": "2023-04-30T04:58:17.151548Z",
     "shell.execute_reply.started": "2023-04-30T04:58:15.782705Z"
    },
    "tags": []
   },
   "outputs": [
    {
     "data": {
      "application/vnd.jupyter.widget-view+json": {
       "model_id": "ee0ed1b8499d4b37b7bcc0cdca4e6fab",
       "version_major": 2,
       "version_minor": 0
      },
      "text/plain": [
       "VBox()"
      ]
     },
     "metadata": {},
     "output_type": "display_data"
    },
    {
     "data": {
      "application/vnd.jupyter.widget-view+json": {
       "model_id": "",
       "version_major": 2,
       "version_minor": 0
      },
      "text/plain": [
       "FloatProgress(value=0.0, bar_style='info', description='Progress:', layout=Layout(height='25px', width='50%'),…"
      ]
     },
     "metadata": {},
     "output_type": "display_data"
    },
    {
     "name": "stdout",
     "output_type": "stream",
     "text": [
      "   user_id  Recency  Frequency  Monetary\n",
      "0        5      181         17   11695.0\n",
      "1       12       72         14    3524.0\n",
      "2       24      170          8   46300.0\n",
      "3       31      192          6    2264.0\n",
      "4       34      234         16    2480.0"
     ]
    }
   ],
   "source": [
    "features = rfm_data.columns[1:]\n",
    "\n",
    "printdf(rfm_data)"
   ]
  },
  {
   "cell_type": "code",
   "execution_count": 10,
   "metadata": {
    "execution": {
     "iopub.execute_input": "2023-04-30T04:58:17.154084Z",
     "iopub.status.busy": "2023-04-30T04:58:17.153743Z",
     "iopub.status.idle": "2023-04-30T04:58:18.441667Z",
     "shell.execute_reply": "2023-04-30T04:58:18.440937Z",
     "shell.execute_reply.started": "2023-04-30T04:58:17.154048Z"
    },
    "tags": []
   },
   "outputs": [
    {
     "data": {
      "application/vnd.jupyter.widget-view+json": {
       "model_id": "13f52184bdc04359a7918b587fc628b3",
       "version_major": 2,
       "version_minor": 0
      },
      "text/plain": [
       "VBox()"
      ]
     },
     "metadata": {},
     "output_type": "display_data"
    },
    {
     "data": {
      "application/vnd.jupyter.widget-view+json": {
       "model_id": "",
       "version_major": 2,
       "version_minor": 0
      },
      "text/plain": [
       "FloatProgress(value=0.0, bar_style='info', description='Progress:', layout=Layout(height='25px', width='50%'),…"
      ]
     },
     "metadata": {},
     "output_type": "display_data"
    },
    {
     "name": "stdout",
     "output_type": "stream",
     "text": [
      "   user_id            rfm_features\n",
      "0        5  [181.0, 17.0, 11695.0]\n",
      "1       12    [72.0, 14.0, 3524.0]\n",
      "2       24   [170.0, 8.0, 46300.0]\n",
      "3       31    [192.0, 6.0, 2264.0]\n",
      "4       34   [234.0, 16.0, 2480.0]"
     ]
    }
   ],
   "source": [
    "assembler = VectorAssembler(\n",
    "    inputCols=features, \n",
    "    outputCol=\"rfm_features\")\n",
    "\n",
    "assembled_data = assembler.transform(rfm_data)\n",
    "\n",
    "assembled_data = assembled_data.select('user_id', 'rfm_features')\n",
    "\n",
    "printdf(assembled_data)"
   ]
  },
  {
   "cell_type": "code",
   "execution_count": 11,
   "metadata": {
    "execution": {
     "iopub.execute_input": "2023-04-30T04:58:18.445016Z",
     "iopub.status.busy": "2023-04-30T04:58:18.444046Z",
     "iopub.status.idle": "2023-04-30T04:58:21.791489Z",
     "shell.execute_reply": "2023-04-30T04:58:21.790488Z",
     "shell.execute_reply.started": "2023-04-30T04:58:18.444977Z"
    },
    "tags": []
   },
   "outputs": [
    {
     "data": {
      "application/vnd.jupyter.widget-view+json": {
       "model_id": "4a836581d2eb422a9a5e191bc2dd9710",
       "version_major": 2,
       "version_minor": 0
      },
      "text/plain": [
       "VBox()"
      ]
     },
     "metadata": {},
     "output_type": "display_data"
    },
    {
     "data": {
      "application/vnd.jupyter.widget-view+json": {
       "model_id": "",
       "version_major": 2,
       "version_minor": 0
      },
      "text/plain": [
       "FloatProgress(value=0.0, bar_style='info', description='Progress:', layout=Layout(height='25px', width='50%'),…"
      ]
     },
     "metadata": {},
     "output_type": "display_data"
    },
    {
     "name": "stdout",
     "output_type": "stream",
     "text": [
      "   user_id  ...                                   rfm_standardized\n",
      "0        5  ...  [1.697568175024843, 2.8532045176685723, 1.0574...\n",
      "1       12  ...  [0.6752757381314293, 2.349697838080001, 0.3186...\n",
      "2       24  ...  [1.5944010483658746, 1.3426844789028576, 4.186...\n",
      "3       31  ...  [1.8007353016838112, 1.0070133591771433, 0.204...\n",
      "4       34  ...  [2.194646148927145, 2.685368957805715, 0.22424...\n",
      "\n",
      "[5 rows x 3 columns]"
     ]
    }
   ],
   "source": [
    "scaler = StandardScaler(inputCol='rfm_features', outputCol='rfm_standardized')\n",
    "\n",
    "data_scale = scaler.fit(assembled_data)\n",
    "\n",
    "scaled_data = data_scale.transform(assembled_data)\n",
    "\n",
    "printdf(scaled_data)"
   ]
  },
  {
   "cell_type": "code",
   "execution_count": 12,
   "metadata": {
    "execution": {
     "iopub.execute_input": "2023-04-30T04:58:21.793395Z",
     "iopub.status.busy": "2023-04-30T04:58:21.792817Z",
     "iopub.status.idle": "2023-04-30T04:58:41.563727Z",
     "shell.execute_reply": "2023-04-30T04:58:41.562667Z",
     "shell.execute_reply.started": "2023-04-30T04:58:21.793357Z"
    },
    "tags": []
   },
   "outputs": [
    {
     "data": {
      "application/vnd.jupyter.widget-view+json": {
       "model_id": "479daddf8f994034ae8c9f73464d6bb0",
       "version_major": 2,
       "version_minor": 0
      },
      "text/plain": [
       "VBox()"
      ]
     },
     "metadata": {},
     "output_type": "display_data"
    },
    {
     "data": {
      "application/vnd.jupyter.widget-view+json": {
       "model_id": "",
       "version_major": 2,
       "version_minor": 0
      },
      "text/plain": [
       "FloatProgress(value=0.0, bar_style='info', description='Progress:', layout=Layout(height='25px', width='50%'),…"
      ]
     },
     "metadata": {},
     "output_type": "display_data"
    }
   ],
   "source": [
    "# working with `scaled_data`\n",
    "# from pyspark.ml.evaluation import ClusteringEvaluator\n",
    "costs = {}\n",
    "\n",
    "for k in range(2, 10):\n",
    "    k_means = KMeans(featuresCol='rfm_standardized', k=k)\n",
    "    model = k_means.fit(scaled_data)\n",
    "    costs[k] = model.summary.trainingCost"
   ]
  },
  {
   "cell_type": "code",
   "execution_count": 13,
   "metadata": {
    "execution": {
     "iopub.execute_input": "2023-04-30T04:58:41.565255Z",
     "iopub.status.busy": "2023-04-30T04:58:41.565017Z",
     "iopub.status.idle": "2023-04-30T04:58:43.033293Z",
     "shell.execute_reply": "2023-04-30T04:58:43.017821Z",
     "shell.execute_reply.started": "2023-04-30T04:58:41.565231Z"
    },
    "tags": []
   },
   "outputs": [
    {
     "data": {
      "application/vnd.jupyter.widget-view+json": {
       "model_id": "81a9f835345e4a569d5946488ac737cc",
       "version_major": 2,
       "version_minor": 0
      },
      "text/plain": [
       "VBox()"
      ]
     },
     "metadata": {},
     "output_type": "display_data"
    },
    {
     "data": {
      "application/vnd.jupyter.widget-view+json": {
       "model_id": "",
       "version_major": 2,
       "version_minor": 0
      },
      "text/plain": [
       "FloatProgress(value=0.0, bar_style='info', description='Progress:', layout=Layout(height='25px', width='50%'),…"
      ]
     },
     "metadata": {},
     "output_type": "display_data"
    }
   ],
   "source": [
    "fig, ax = plt.subplots(1, 1, figsize =(16, 8))\n",
    "\n",
    "ax.plot(costs.keys(), costs.values(), '-ob')\n",
    "ax.set_xlabel('k')\n",
    "ax.set_ylabel('cost')\n",
    "\n",
    "# ax.plot(3, costs[3], 'bo')\n",
    "\n",
    "import boto3\n",
    "s3client=boto3.client('s3')\n",
    "fig.savefig('kmeans_cluster_number.png')\n",
    "s3client.upload_file('kmeans_cluster_number.png', 'evo-kmeans-analysis', 'analysis-results/kmeans_cluster_number.png')"
   ]
  },
  {
   "cell_type": "markdown",
   "metadata": {
    "tags": []
   },
   "source": [
    "# K = 3"
   ]
  },
  {
   "cell_type": "code",
   "execution_count": 14,
   "metadata": {
    "execution": {
     "iopub.execute_input": "2023-04-30T04:58:43.049391Z",
     "iopub.status.busy": "2023-04-30T04:58:43.049024Z",
     "iopub.status.idle": "2023-04-30T04:58:45.638126Z",
     "shell.execute_reply": "2023-04-30T04:58:45.630608Z",
     "shell.execute_reply.started": "2023-04-30T04:58:43.049364Z"
    },
    "tags": []
   },
   "outputs": [
    {
     "data": {
      "application/vnd.jupyter.widget-view+json": {
       "model_id": "fc1b1b2b98d142c49c90a56ce22e9dc1",
       "version_major": 2,
       "version_minor": 0
      },
      "text/plain": [
       "VBox()"
      ]
     },
     "metadata": {},
     "output_type": "display_data"
    },
    {
     "data": {
      "application/vnd.jupyter.widget-view+json": {
       "model_id": "",
       "version_major": 2,
       "version_minor": 0
      },
      "text/plain": [
       "FloatProgress(value=0.0, bar_style='info', description='Progress:', layout=Layout(height='25px', width='50%'),…"
      ]
     },
     "metadata": {},
     "output_type": "display_data"
    }
   ],
   "source": [
    "k_means = KMeans(featuresCol='rfm_standardized', k=3)\n",
    "model = k_means.fit(scaled_data)\n",
    "predictions = model.transform(scaled_data)"
   ]
  },
  {
   "cell_type": "code",
   "execution_count": 15,
   "metadata": {
    "execution": {
     "iopub.execute_input": "2023-04-30T04:58:45.639881Z",
     "iopub.status.busy": "2023-04-30T04:58:45.639349Z",
     "iopub.status.idle": "2023-04-30T04:58:46.684129Z",
     "shell.execute_reply": "2023-04-30T04:58:46.683189Z",
     "shell.execute_reply.started": "2023-04-30T04:58:45.639845Z"
    },
    "tags": []
   },
   "outputs": [
    {
     "data": {
      "application/vnd.jupyter.widget-view+json": {
       "model_id": "3a147af650964a288903eddc4e2f6b14",
       "version_major": 2,
       "version_minor": 0
      },
      "text/plain": [
       "VBox()"
      ]
     },
     "metadata": {},
     "output_type": "display_data"
    },
    {
     "data": {
      "application/vnd.jupyter.widget-view+json": {
       "model_id": "",
       "version_major": 2,
       "version_minor": 0
      },
      "text/plain": [
       "FloatProgress(value=0.0, bar_style='info', description='Progress:', layout=Layout(height='25px', width='50%'),…"
      ]
     },
     "metadata": {},
     "output_type": "display_data"
    },
    {
     "name": "stdout",
     "output_type": "stream",
     "text": [
      "   user_id  prediction\n",
      "0        5           2\n",
      "1       12           2\n",
      "2       24           1\n",
      "3       31           0\n",
      "4       34           2"
     ]
    }
   ],
   "source": [
    "result = predictions.select('user_id', 'prediction')\n",
    "printdf(result)"
   ]
  },
  {
   "cell_type": "code",
   "execution_count": 16,
   "metadata": {
    "execution": {
     "iopub.execute_input": "2023-04-30T04:58:46.685497Z",
     "iopub.status.busy": "2023-04-30T04:58:46.685179Z",
     "iopub.status.idle": "2023-04-30T04:58:48.244854Z",
     "shell.execute_reply": "2023-04-30T04:58:48.236190Z",
     "shell.execute_reply.started": "2023-04-30T04:58:46.685462Z"
    },
    "tags": []
   },
   "outputs": [
    {
     "data": {
      "application/vnd.jupyter.widget-view+json": {
       "model_id": "5cbdbadc271b4d4eb66142d6786458d2",
       "version_major": 2,
       "version_minor": 0
      },
      "text/plain": [
       "VBox()"
      ]
     },
     "metadata": {},
     "output_type": "display_data"
    },
    {
     "data": {
      "application/vnd.jupyter.widget-view+json": {
       "model_id": "",
       "version_major": 2,
       "version_minor": 0
      },
      "text/plain": [
       "FloatProgress(value=0.0, bar_style='info', description='Progress:', layout=Layout(height='25px', width='50%'),…"
      ]
     },
     "metadata": {},
     "output_type": "display_data"
    }
   ],
   "source": [
    "# Join other information with the prediction result-set\n",
    "\n",
    "rfm_score = spark.read.csv(f's3://athenapyspark-rfm-analysis-result/analysis-results/evo_loyalty_rfm.csv', \n",
    "                           inferSchema=True, \n",
    "                           header=True)\n",
    "rfm_score = rfm_score.select(\"user_id\", \"Recency\", \"Frequency\", \"Monetary\", \"RFM_Score\", \"RFM_ScoreGroup\", \"Loyalty\")\n",
    "# printdf(rfm_score)"
   ]
  },
  {
   "cell_type": "code",
   "execution_count": 17,
   "metadata": {
    "execution": {
     "iopub.execute_input": "2023-04-30T04:58:48.255967Z",
     "iopub.status.busy": "2023-04-30T04:58:48.254751Z",
     "iopub.status.idle": "2023-04-30T04:58:49.724991Z",
     "shell.execute_reply": "2023-04-30T04:58:49.723252Z",
     "shell.execute_reply.started": "2023-04-30T04:58:48.255937Z"
    },
    "tags": []
   },
   "outputs": [
    {
     "data": {
      "application/vnd.jupyter.widget-view+json": {
       "model_id": "bde6437cae6b412f914a169414244f6d",
       "version_major": 2,
       "version_minor": 0
      },
      "text/plain": [
       "VBox()"
      ]
     },
     "metadata": {},
     "output_type": "display_data"
    },
    {
     "data": {
      "application/vnd.jupyter.widget-view+json": {
       "model_id": "",
       "version_major": 2,
       "version_minor": 0
      },
      "text/plain": [
       "FloatProgress(value=0.0, bar_style='info', description='Progress:', layout=Layout(height='25px', width='50%'),…"
      ]
     },
     "metadata": {},
     "output_type": "display_data"
    },
    {
     "name": "stdout",
     "output_type": "stream",
     "text": [
      "   user_id  prediction  Recency  ...  RFM_Score  RFM_ScoreGroup   Loyalty\n",
      "0      242           2       74  ...          3             111  Platinum\n",
      "1      280           2      116  ...          3             111  Platinum\n",
      "2      324           0      131  ...          3             111  Platinum\n",
      "3      351           2       63  ...          3             111  Platinum\n",
      "4      378           2       67  ...          3             111  Platinum\n",
      "\n",
      "[5 rows x 8 columns]"
     ]
    }
   ],
   "source": [
    "combined_result = result.join(rfm_score, on='user_id', how='inner')\n",
    "printdf(combined_result)"
   ]
  },
  {
   "cell_type": "code",
   "execution_count": 18,
   "metadata": {
    "execution": {
     "iopub.execute_input": "2023-04-30T04:58:49.727111Z",
     "iopub.status.busy": "2023-04-30T04:58:49.726473Z",
     "iopub.status.idle": "2023-04-30T04:58:50.578863Z",
     "shell.execute_reply": "2023-04-30T04:58:50.572884Z",
     "shell.execute_reply.started": "2023-04-30T04:58:49.727072Z"
    },
    "tags": []
   },
   "outputs": [
    {
     "data": {
      "application/vnd.jupyter.widget-view+json": {
       "model_id": "b72bed2c3e10476a9ec7e0e9fe616d29",
       "version_major": 2,
       "version_minor": 0
      },
      "text/plain": [
       "VBox()"
      ]
     },
     "metadata": {},
     "output_type": "display_data"
    },
    {
     "data": {
      "application/vnd.jupyter.widget-view+json": {
       "model_id": "",
       "version_major": 2,
       "version_minor": 0
      },
      "text/plain": [
       "FloatProgress(value=0.0, bar_style='info', description='Progress:', layout=Layout(height='25px', width='50%'),…"
      ]
     },
     "metadata": {},
     "output_type": "display_data"
    },
    {
     "name": "stdout",
     "output_type": "stream",
     "text": [
      "0\n",
      "s3.Object(bucket_name='evo-kmeans-analysis', key='analysis-results/evo-combined_result_k4.csv')"
     ]
    }
   ],
   "source": [
    "combined_result_df = combined_result.toPandas()\n",
    "import boto3\n",
    "s3 = boto3.resource('s3')\n",
    "bucket = s3.Bucket('evo-kmeans-analysis')\n",
    "import tempfile\n",
    "with tempfile.TemporaryFile(mode='w+t') as f:\n",
    "    # write the DataFrame to the temporary file\n",
    "    combined_result_df.to_csv(f, index=False)\n",
    "    # reset the file pointer to the beginning of the file\n",
    "    f.seek(0)\n",
    "    # upload the file to S3\n",
    "    bucket.put_object(Key='analysis-results/evo-combined_result_k4.csv', Body=f.read().encode())"
   ]
  },
  {
   "cell_type": "code",
   "execution_count": 19,
   "metadata": {
    "execution": {
     "iopub.execute_input": "2023-04-30T04:58:50.580295Z",
     "iopub.status.busy": "2023-04-30T04:58:50.579962Z",
     "iopub.status.idle": "2023-04-30T04:58:51.393488Z",
     "shell.execute_reply": "2023-04-30T04:58:51.392522Z",
     "shell.execute_reply.started": "2023-04-30T04:58:50.580259Z"
    },
    "tags": []
   },
   "outputs": [
    {
     "data": {
      "application/vnd.jupyter.widget-view+json": {
       "model_id": "d2aea934b1284c49a8928dca44ed48ed",
       "version_major": 2,
       "version_minor": 0
      },
      "text/plain": [
       "VBox()"
      ]
     },
     "metadata": {},
     "output_type": "display_data"
    },
    {
     "data": {
      "application/vnd.jupyter.widget-view+json": {
       "model_id": "",
       "version_major": 2,
       "version_minor": 0
      },
      "text/plain": [
       "FloatProgress(value=0.0, bar_style='info', description='Progress:', layout=Layout(height='25px', width='50%'),…"
      ]
     },
     "metadata": {},
     "output_type": "display_data"
    }
   ],
   "source": [
    "# inspect our loyalty segmentation\n",
    "\n",
    "# combined_result_df = combined_result_df.sort_values(\"RFM_Score\")\n",
    "\n",
    "fig, ax = plt.subplots(1, 1, figsize=(6, 8))\n",
    "\n",
    "sns.countplot(x=\"prediction\", data=combined_result_df)\n",
    "for p in ax.patches:\n",
    "    ax.annotate('{}'.format(p.get_height()), (p.get_x() + 0.3, p.get_height() + 20))\n",
    "    \n",
    "import boto3\n",
    "s3client=boto3.client('s3')\n",
    "fig.savefig('kmeans_prediction.png')\n",
    "s3client.upload_file('kmeans_prediction.png', 'evo-kmeans-analysis', 'analysis-results/kmeans_prediction.png')"
   ]
  },
  {
   "cell_type": "markdown",
   "metadata": {},
   "source": [
    "# Observation"
   ]
  },
  {
   "cell_type": "code",
   "execution_count": 20,
   "metadata": {
    "execution": {
     "iopub.execute_input": "2023-04-30T04:58:51.394824Z",
     "iopub.status.busy": "2023-04-30T04:58:51.394555Z",
     "iopub.status.idle": "2023-04-30T04:58:52.186127Z",
     "shell.execute_reply": "2023-04-30T04:58:52.185059Z",
     "shell.execute_reply.started": "2023-04-30T04:58:51.394799Z"
    },
    "tags": []
   },
   "outputs": [
    {
     "data": {
      "application/vnd.jupyter.widget-view+json": {
       "model_id": "e88454259dab4accb0281ceb5372b470",
       "version_major": 2,
       "version_minor": 0
      },
      "text/plain": [
       "VBox()"
      ]
     },
     "metadata": {},
     "output_type": "display_data"
    },
    {
     "data": {
      "application/vnd.jupyter.widget-view+json": {
       "model_id": "",
       "version_major": 2,
       "version_minor": 0
      },
      "text/plain": [
       "FloatProgress(value=0.0, bar_style='info', description='Progress:', layout=Layout(height='25px', width='50%'),…"
      ]
     },
     "metadata": {},
     "output_type": "display_data"
    }
   ],
   "source": [
    "analysis_df = combined_result.toPandas()\n",
    "\n",
    "fig, ax = plt.subplots(1, 3, figsize=(20, 12))\n",
    "sns.boxplot(x='prediction', y='Recency', data=analysis_df, ax=ax[0])\n",
    "sns.boxplot(x='prediction', y='Frequency', data=analysis_df, ax=ax[1])\n",
    "sns.boxplot(x='prediction', y='Monetary', data=analysis_df, ax=ax[2])\n",
    "\n",
    "import boto3\n",
    "s3client=boto3.client('s3')\n",
    "fig.savefig('kmeans_observation.png')\n",
    "s3client.upload_file('kmeans_observation.png', 'evo-kmeans-analysis', 'analysis-results/kmeans_observation.png')"
   ]
  },
  {
   "cell_type": "markdown",
   "metadata": {},
   "source": [
    "# Visualization"
   ]
  },
  {
   "cell_type": "code",
   "execution_count": 21,
   "metadata": {
    "execution": {
     "iopub.execute_input": "2023-04-30T04:58:52.187902Z",
     "iopub.status.busy": "2023-04-30T04:58:52.187575Z",
     "iopub.status.idle": "2023-04-30T04:58:53.491556Z",
     "shell.execute_reply": "2023-04-30T04:58:53.490596Z",
     "shell.execute_reply.started": "2023-04-30T04:58:52.187865Z"
    },
    "tags": []
   },
   "outputs": [
    {
     "data": {
      "application/vnd.jupyter.widget-view+json": {
       "model_id": "f1b54db766de403b8f6240e5dc5505b2",
       "version_major": 2,
       "version_minor": 0
      },
      "text/plain": [
       "VBox()"
      ]
     },
     "metadata": {},
     "output_type": "display_data"
    },
    {
     "data": {
      "application/vnd.jupyter.widget-view+json": {
       "model_id": "",
       "version_major": 2,
       "version_minor": 0
      },
      "text/plain": [
       "FloatProgress(value=0.0, bar_style='info', description='Progress:', layout=Layout(height='25px', width='50%'),…"
      ]
     },
     "metadata": {},
     "output_type": "display_data"
    }
   ],
   "source": [
    "selected_result_df = combined_result_df#.query('Monetary < 100000').query('Frequency < 3000')\n",
    "import boto3\n",
    "s3client=boto3.client('s3')\n",
    "\n",
    "# Monetary vs Recency (combined)\n",
    "fig, ax = plt.subplots(1, 1, figsize=(8, 8))\n",
    "sns.scatterplot(x='Recency', y='Monetary', data=selected_result_df, hue='prediction', palette=\"deep\")\n",
    "fig.savefig('kmeans_Monetary_vs_Recency.png')\n",
    "s3client.upload_file('kmeans_Monetary_vs_Recency.png', 'evo-kmeans-analysis', 'analysis-results/kmeans_Monetary_vs_Recency.png')\n",
    "\n",
    "# Recency vs Frequency (combined)\n",
    "fig, ax = plt.subplots(1, 1, figsize=(8, 8))\n",
    "sns.scatterplot(x='Recency', y='Frequency', data=selected_result_df, hue='prediction', palette=\"deep\")\n",
    "fig.savefig('kmeans_Recency_vs_Frequency.png')\n",
    "s3client.upload_file('kmeans_Recency_vs_Frequency.png', 'evo-kmeans-analysis', 'analysis-results/kmeans_Recency_vs_Frequency.png')\n",
    "\n",
    "# Monetary vs Frequency (combined)\n",
    "fig, ax = plt.subplots(1, 1, figsize=(8, 8))\n",
    "sns.scatterplot(x='Monetary', y='Frequency', data=selected_result_df, hue='prediction', palette=\"deep\")\n",
    "fig.savefig('kmeans_Monetary_vs_Frequency.png')\n",
    "s3client.upload_file('kmeans_Monetary_vs_Frequency.png', 'evo-kmeans-analysis', 'analysis-results/kmeans_Monetary_vs_Frequency.png')\n",
    "\n"
   ]
  },
  {
   "cell_type": "code",
   "execution_count": 22,
   "metadata": {
    "execution": {
     "iopub.execute_input": "2023-04-30T04:58:53.493692Z",
     "iopub.status.busy": "2023-04-30T04:58:53.493012Z",
     "iopub.status.idle": "2023-04-30T04:58:55.868708Z",
     "shell.execute_reply": "2023-04-30T04:58:55.863012Z",
     "shell.execute_reply.started": "2023-04-30T04:58:53.493652Z"
    },
    "tags": []
   },
   "outputs": [
    {
     "data": {
      "application/vnd.jupyter.widget-view+json": {
       "model_id": "ce20a4bc0c374b2b80ba48a9840504a0",
       "version_major": 2,
       "version_minor": 0
      },
      "text/plain": [
       "VBox()"
      ]
     },
     "metadata": {},
     "output_type": "display_data"
    },
    {
     "data": {
      "application/vnd.jupyter.widget-view+json": {
       "model_id": "",
       "version_major": 2,
       "version_minor": 0
      },
      "text/plain": [
       "FloatProgress(value=0.0, bar_style='info', description='Progress:', layout=Layout(height='25px', width='50%'),…"
      ]
     },
     "metadata": {},
     "output_type": "display_data"
    },
    {
     "name": "stdout",
     "output_type": "stream",
     "text": [
      "   prediction  Avg Recency  Avg Frequency  Avg Monetary\n",
      "0           1   247.000000       4.666667  53233.333333\n",
      "1           2    92.687500      15.187500  11686.463437\n",
      "2           0   228.412698       2.603175   1597.804127"
     ]
    }
   ],
   "source": [
    "analysis = combined_result\\\n",
    "    .groupBy('prediction')\\\n",
    "    .agg(F.avg('Recency').alias('Avg Recency'),\n",
    "         F.avg('Frequency').alias('Avg Frequency'),\n",
    "         F.avg('Monetary').alias('Avg Monetary'))\n",
    "printdf(analysis)"
   ]
  },
  {
   "cell_type": "code",
   "execution_count": null,
   "metadata": {},
   "outputs": [],
   "source": []
  },
  {
   "cell_type": "code",
   "execution_count": null,
   "metadata": {},
   "outputs": [],
   "source": []
  }
 ],
 "metadata": {
  "kernelspec": {
   "display_name": "PySpark",
   "language": "python",
   "name": "pysparkkernel"
  },
  "language_info": {
   "codemirror_mode": {
    "name": "python",
    "version": 3
   },
   "file_extension": ".py",
   "mimetype": "text/x-python",
   "name": "pyspark",
   "pygments_lexer": "python3"
  }
 },
 "nbformat": 4,
 "nbformat_minor": 4
}
